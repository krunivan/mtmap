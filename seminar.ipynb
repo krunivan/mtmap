{
 "cells": [
  {
   "cell_type": "code",
   "execution_count": 407,
   "id": "6bf894e8-6c6f-4d96-8310-71f965245664",
   "metadata": {},
   "outputs": [],
   "source": [
    "import scipy.io\n",
    "import numpy as np\n",
    "import matplotlib.pyplot as plt\n",
    "from matplotlib.pyplot import figure\n",
    "import scipy.sparse\n",
    "\n",
    "np.set_printoptions(precision = 8)"
   ]
  },
  {
   "cell_type": "code",
   "execution_count": 451,
   "id": "8055f2ba-3e59-44d3-9980-7cc63d9d4c35",
   "metadata": {},
   "outputs": [],
   "source": [
    "Ph300 = scipy.io.loadmat('Ph300.mat')\n",
    "Ph500 = scipy.io.loadmat('Ph500.mat')\n",
    "\n",
    "ph300 = np.asarray(scipy.sparse.csc_matrix.todense(Ph300['Ph300']))\n",
    "ph500 = np.asarray(scipy.sparse.csc_matrix.todense(Ph500['Ph500']))"
   ]
  },
  {
   "cell_type": "code",
   "execution_count": 452,
   "id": "096706b5-dc1e-41af-82df-2b2e05bc0f71",
   "metadata": {},
   "outputs": [],
   "source": [
    "w, v = np.linalg.eig(ph300)\n",
    "\n",
    "vektor = np.array(v[:,0])\n",
    "vektor_new = np.zeros((vektor.size, 2))\n",
    "\n",
    "#print(ph300 @ vektor)\n",
    "for i in range(vektor.size):\n",
    "    val = vektor[i]\n",
    "    if(val > 0):\n",
    "        vektor_new[i,0] = val\n",
    "    if(val <= 0):\n",
    "        vektor_new[i,1] = val\n",
    "\n",
    "#plt.scatter(range(0,10), w[0:10])"
   ]
  },
  {
   "cell_type": "code",
   "execution_count": 22,
   "id": "4a739e62-3fba-486a-a432-c7a1a62e404c",
   "metadata": {},
   "outputs": [
    {
     "data": {
      "text/plain": [
       "<matplotlib.image.AxesImage at 0x2b35bafd040>"
      ]
     },
     "execution_count": 22,
     "metadata": {},
     "output_type": "execute_result"
    },
    {
     "data": {
      "image/png": "[encoded data removed]",
      "text/plain": [
       "<Figure size 400x400 with 1 Axes>"
      ]
     },
     "metadata": {
      "needs_background": "light"
     },
     "output_type": "display_data"
    }
   ],
   "source": [
    "figure(figsize=(5, 5), dpi=80)\n",
    "plt.spy(ph300[:,:])"
   ]
  },
  {
   "cell_type": "markdown",
   "id": "550e3218-269f-4beb-8c60-d31988b8735b",
   "metadata": {},
   "source": [
    "### Funkcija koja iz vektora permutacije generira matricu permutacija"
   ]
  },
  {
   "cell_type": "code",
   "execution_count": 453,
   "id": "317e4430-c3b6-42c8-8b3e-d15e642b43e3",
   "metadata": {},
   "outputs": [],
   "source": [
    "def permmat(vektor):\n",
    "    n = vektor.size\n",
    "    mat = np.zeros((n,n))\n",
    "    for i in range(n):\n",
    "        mat[i][vektor[i]] = 1\n",
    "    return mat"
   ]
  },
  {
   "cell_type": "markdown",
   "id": "c11a3925-0300-49a1-a8b3-e4453f8a1dc0",
   "metadata": {},
   "source": [
    "### Funkcija $\\mathbb{1}$-norme"
   ]
  },
  {
   "cell_type": "code",
   "execution_count": 454,
   "id": "377b497f-f04e-4564-b83b-876ed74a478c",
   "metadata": {},
   "outputs": [],
   "source": [
    "def norma(B):\n",
    "    n = max(B.shape)\n",
    "    if(n == 0):\n",
    "        return 0\n",
    "    suma = np.sum(B);\n",
    "    return suma/n"
   ]
  },
  {
   "cell_type": "markdown",
   "id": "619e88f3-8eac-4085-9dd6-db9473985524",
   "metadata": {},
   "source": [
    "### Funkcija korak\n",
    "\n",
    "Funkcija koja provjeri je li daljnja dekompozicija moguća, prima podmatricu B, threshold, indekse na kojima se $B$ nalazi \n",
    "\n",
    "$$B = B_{\\text{main}}[\\text{pocetna:zavrsna},\\text{pocetna:zavrsna}]$$ \n",
    "\n",
    "te ukupnu dimenziju glavne matrice"
   ]
  },
  {
   "cell_type": "code",
   "execution_count": 620,
   "id": "4b93a3f1-fae6-4d1d-aba8-1b21cdc19e46",
   "metadata": {},
   "outputs": [],
   "source": [
    "def korak(B, thr, pocetna, zavrsna, n):\n",
    "    u,s,v = np.linalg.svd(B)\n",
    "    vektor = u[:,1]\n",
    "    \n",
    "    n1 = sum(vektor <= 0)\n",
    "    n2 = sum(vektor > 0)\n",
    "\n",
    "    Ppom = permmat(np.argsort(vektor))\n",
    "    Bnew = Ppom @ B @ np.transpose(Ppom)\n",
    "    \n",
    "    P = np.eye(n)\n",
    "    P[pocetna:zavrsna, pocetna:zavrsna] = Ppom\n",
    "    \n",
    "    if(norma(Bnew[0:n1,0:n1]) > thr and norma(Bnew[n1:n,n1:n]) > thr):\n",
    "        return P, n1, n2, 0\n",
    "    else:\n",
    "        return P, n1, n2, 1"
   ]
  },
  {
   "cell_type": "code",
   "execution_count": 646,
   "id": "99f907c9-9dcf-49c8-8428-bd3377dc25aa",
   "metadata": {
    "tags": []
   },
   "outputs": [],
   "source": [
    "def SVDmetastable(B, thr, pocetna, zavrsna, n):\n",
    "    blokovi = []\n",
    "    permutacija = np.eye(n)\n",
    "    \n",
    "    P, n1, n2, flag = korak(B[pocetna:zavrsna, pocetna:zavrsna], thr, pocetna, zavrsna, n)\n",
    "    \n",
    "    print(\"P dimenzije: \", P.shape, \"B dimenzije: \", B.shape)\n",
    "    \n",
    "    if(flag == 1):\n",
    "        return blokovi, permutacija, 0\n",
    "    \n",
    "    permutacija = P @ permutacija\n",
    "    Bnew = P @ B @ np.transpose(P)\n",
    " \n",
    "    #provjeravamo može li se prva podmatrica dalje rastaviti\n",
    "    flag1 = korak(Bnew[pocetna:(pocetna+n1), pocetna:(pocetna+n1)], thr, pocetna, pocetna+n1, n)[2]\n",
    "    if(flag1 == 0):\n",
    "        blokovi.append(n1)\n",
    "    else:\n",
    "        blok1, perm1, flag1 = SVDmetastable(Bnew, thr, pocetna, pocetna+n1, n)\n",
    "        permutacija = perm1 @ permutacija\n",
    "        Bnew = perm1 @ Bnew @ permutacija\n",
    "    \n",
    "    \n",
    "    ##TREBA LI OVO U Bnew u SVDMetastab?\n",
    "    \n",
    "    #provjeravamo isto za drugu podmatricu\n",
    "    flag1 = korak(Bnew[(pocetna+n1):zavrsna,(pocetna+n1):zavrsna], thr, pocetna, pocetna+n1, n)[2]\n",
    "    if(flag1 == 0):\n",
    "        blokovi.append(n2)\n",
    "    else:\n",
    "        blok1, perm1, flag1 = SVDmetastable(Bnew, thr, pocetna+n1, zavrsna, n)\n",
    "        permutacija = perm1 @ permutacija\n",
    "        Bnew = perm1 @ Bnew @ permutacija\n",
    "        \n",
    "    return blokovi, permutacija"
   ]
  },
  {
   "cell_type": "code",
   "execution_count": 649,
   "id": "6361d2ce-3da7-4855-9764-1f329a139a07",
   "metadata": {},
   "outputs": [],
   "source": [
    "def korak2(B, thr):\n",
    "    u,s,v = np.linalg.svd(B)\n",
    "    vektor = u[:,1]\n",
    "    \n",
    "    n1 = sum(vektor <= 0)\n",
    "    n2 = sum(vektor > 0)\n",
    "\n",
    "    P = permmat(np.argsort(vektor))\n",
    "    Bnew = P @ B @ np.transpose(P)\n",
    "    \n",
    "    if(norma(Bnew[0:n1,0:n1]) > thr and norma(Bnew[n1:n,n1:n]) > thr):\n",
    "        return P, n1, n2, 0\n",
    "    else:\n",
    "        return P, n1, n2, 1"
   ]
  },
  {
   "cell_type": "code",
   "execution_count": 679,
   "id": "f5ca44be-fb93-40f7-9097-91f353960311",
   "metadata": {},
   "outputs": [],
   "source": [
    "def SVDmetastable2(B, thr):\n",
    "    n = max(B.shape)\n",
    "    blokovi = []\n",
    "    permutacija = np.eye(n)\n",
    "    \n",
    "    P, n1, n2, flag = korak2(B, thr)\n",
    "    \n",
    "    if(flag == 1):\n",
    "        #Ne možemo dalje rastavljat\n",
    "        blokovi.append(n)\n",
    "        return blokovi, permutacija\n",
    "    else:\n",
    "        print(\"Usao\")\n",
    "        B = P @ B @ np.transpose(P)\n",
    "        blok1, perm1 = SVDmetastable2(B[0:n1,0:n1], thr)\n",
    "        blok2, perm2 = SVDmetastable2(B[n1:n,n1:n], thr)\n",
    "        permutacija[0:n1, 0:n1] = perm1\n",
    "        permutacija[n1:n, n1:n] = perm2\n",
    "        blokovi = blok1 + blok2\n",
    "        return blokovi, permutacija"
   ]
  },
  {
   "cell_type": "code",
   "execution_count": 681,
   "id": "7d031e9e-eaf6-4dc6-a218-60a75e31243e",
   "metadata": {},
   "outputs": [
    {
     "name": "stdout",
     "output_type": "stream",
     "text": [
      "215 40 1\n",
      "215 40 0\n",
      "[255]\n"
     ]
    },
    {
     "data": {
      "text/plain": [
       "<matplotlib.image.AxesImage at 0x2b37274ba00>"
      ]
     },
     "execution_count": 681,
     "metadata": {},
     "output_type": "execute_result"
    },
    {
     "data": {
      "image/png": "[encoded data removed]",
      "text/plain": [
       "<Figure size 640x640 with 1 Axes>"
      ]
     },
     "metadata": {
      "needs_background": "light"
     },
     "output_type": "display_data"
    }
   ],
   "source": [
    "thr = .5\n",
    "k = max(ph300.shape)\n",
    "P,n1,n2,flag = korak2(ph300, .8)\n",
    "print(n1,n2,flag)\n",
    "P,n1,n2,flag = korak(ph300, .8,0,255,255)\n",
    "print(n1,n2,flag)\n",
    "blokovi, P = SVDmetastable2(ph300,thr)\n",
    "\n",
    "ph = P @ ph300 @ np.transpose(P)\n",
    "\n",
    "print(blokovi)\n",
    "figure(figsize=(8, 8), dpi=80)\n",
    "plt.spy(ph)"
   ]
  },
  {
   "cell_type": "code",
   "execution_count": 672,
   "id": "4f68f09f-b272-4db8-837d-db678164150d",
   "metadata": {},
   "outputs": [
    {
     "name": "stdout",
     "output_type": "stream",
     "text": [
      "[[0. 0. 0. 1. 0.]\n",
      " [0. 1. 0. 0. 0.]\n",
      " [0. 0. 1. 0. 0.]\n",
      " [0. 0. 0. 0. 1.]\n",
      " [1. 0. 0. 0. 0.]] 3 2 0\n"
     ]
    },
    {
     "data": {
      "text/plain": [
       "<matplotlib.image.AxesImage at 0x2b3720bbd30>"
      ]
     },
     "execution_count": 672,
     "metadata": {},
     "output_type": "execute_result"
    },
    {
     "data": {
      "image/png": "[encoded data removed]",
      "text/plain": [
       "<Figure size 432x288 with 1 Axes>"
      ]
     },
     "metadata": {
      "needs_background": "light"
     },
     "output_type": "display_data"
    }
   ],
   "source": [
    "B = np.array([[0.1655,0.0393,0.0887,0.0192,0.6872],\n",
    "             [0.0252,0.1888,0.1788,0.5436,0.0636],\n",
    "             [0.0428,0.3154,0.2527,0.3875,0.0015],\n",
    "             [0.0720,0.0344,0.1252,0.6884,0.0799],\n",
    "             [0.3408,0.0421,0.0667,0.0544,0.4959]])\n",
    "\n",
    "blokovi, P = SVDmetastable2(B,.8)\n",
    "\n",
    "P, n1, n2, flag = korak2(B, .8)\n",
    "print(P, n1, n2, flag)\n",
    "B = P @ B @ np.transpose(P)\n",
    "plt.imshow(B)"
   ]
  },
  {
   "cell_type": "code",
   "execution_count": 437,
   "id": "f6e047dd-b60d-4f8b-91b7-a256a5743e08",
   "metadata": {},
   "outputs": [
    {
     "name": "stdout",
     "output_type": "stream",
     "text": [
      "[[0.6884 0.0344 0.1252 0.0799 0.072 ]\n",
      " [0.5436 0.1888 0.1788 0.0636 0.0252]\n",
      " [0.3875 0.3154 0.2527 0.0015 0.0428]\n",
      " [0.0544 0.0421 0.0667 0.4959 0.3408]\n",
      " [0.0192 0.0393 0.0887 0.6872 0.1655]]\n",
      "0.9049333333333333\n",
      "[[0.4959 0.3408]\n",
      " [0.6872 0.1655]]\n",
      "0.8447\n",
      "3 2\n"
     ]
    },
    {
     "data": {
      "text/plain": [
       "<matplotlib.image.AxesImage at 0x2b36bce69d0>"
      ]
     },
     "execution_count": 437,
     "metadata": {},
     "output_type": "execute_result"
    },
    {
     "data": {
      "image/png": "[encoded data removed]",
      "text/plain": [
       "<Figure size 432x288 with 1 Axes>"
      ]
     },
     "metadata": {
      "needs_background": "light"
     },
     "output_type": "display_data"
    }
   ],
   "source": [
    "B = np.array([[0.1655,0.0393,0.0887,0.0192,0.6872],\n",
    "             [0.0252,0.1888,0.1788,0.5436,0.0636],\n",
    "             [0.0428,0.3154,0.2527,0.3875,0.0015],\n",
    "             [0.0720,0.0344,0.1252,0.6884,0.0799],\n",
    "             [0.3408,0.0421,0.0667,0.0544,0.4959]])\n",
    "\n",
    "n = 5\n",
    "P, n1, n2, flag = korak(B, 0.8, 5)\n",
    "Bnew = P @ B @ np.transpose(P)\n",
    "print(Bnew)\n",
    "\n",
    "n = n1+n2\n",
    "\n",
    "print(norma(Bnew[0:n1, 0:n1]))\n",
    "print(Bnew[n1:n, n1:n])\n",
    "print(norma(Bnew[n1:n, n1:n]))\n",
    "print(n1,n2)\n",
    "\n",
    "plt.imshow(Bnew)"
   ]
  },
  {
   "cell_type": "code",
   "execution_count": 423,
   "id": "23aa8384-5d67-47e4-bc50-7e17265508fa",
   "metadata": {},
   "outputs": [
    {
     "name": "stdout",
     "output_type": "stream",
     "text": [
      "3\n",
      "[[0. 0. 0. 1. 0.]\n",
      " [0. 1. 0. 0. 0.]\n",
      " [0. 0. 1. 0. 0.]\n",
      " [0. 0. 0. 0. 1.]\n",
      " [1. 0. 0. 0. 0.]]\n"
     ]
    },
    {
     "data": {
      "text/plain": [
       "<matplotlib.image.AxesImage at 0x2b369ddd190>"
      ]
     },
     "execution_count": 423,
     "metadata": {},
     "output_type": "execute_result"
    },
    {
     "data": {
      "image/png": "[encoded data removed]",
      "text/plain": [
       "<Figure size 432x288 with 1 Axes>"
      ]
     },
     "metadata": {
      "needs_background": "light"
     },
     "output_type": "display_data"
    }
   ],
   "source": [
    "B = np.array([[0.1655,0.0393,0.0887,0.0192,0.6872],\n",
    "             [0.0252,0.1888,0.1788,0.5436,0.0636],\n",
    "             [0.0428,0.3154,0.2527,0.3875,0.0015],\n",
    "             [0.0720,0.0344,0.1252,0.6884,0.0799],\n",
    "             [0.3408,0.0421,0.0667,0.0544,0.4959]])\n",
    "u,s,v = np.linalg.svd(B)\n",
    "\n",
    "vektor = u[:,1]\n",
    "\n",
    "print(sum(vektor < 0))\n",
    "\n",
    "P = permmat(np.argsort(vektor))\n",
    "print(P)\n",
    "\n",
    "B_t = P@B@np.transpose(P)\n",
    "plt.imshow(B_t)"
   ]
  },
  {
   "cell_type": "code",
   "execution_count": 534,
   "id": "81d77207-28ad-43dd-9c48-e2ceaa3e48cb",
   "metadata": {},
   "outputs": [
    {
     "data": {
      "text/plain": [
       "<matplotlib.image.AxesImage at 0x2b36f334100>"
      ]
     },
     "execution_count": 534,
     "metadata": {},
     "output_type": "execute_result"
    },
    {
     "data": {
      "image/png": "[encoded data removed]",
      "text/plain": [
       "<Figure size 432x288 with 1 Axes>"
      ]
     },
     "metadata": {
      "needs_background": "light"
     },
     "output_type": "display_data"
    }
   ],
   "source": [
    "# B = np.array([[0.1655,0.0393,0.0887,0.0192,0.6872,0],\n",
    "#             [0.0252,0.1888,0.1788,0.5436,0.0636,0],\n",
    "#             [0.0428,0.3154,0.2527,0.3875,0.0015,0],\n",
    "#             [0.0720,0.0344,0.1252,0.6884,0.0799,0],\n",
    "#             [0.3408,0.0421,0.0667,0.0544,0.4959,0],\n",
    "#             [0,0,0,0,0,0]]) \n",
    "\n",
    "B = np.array([[0.1655,0.0393,0.0887,0.0192,0.6872],\n",
    "             [0.0252,0.1888,0.1788,0.5436,0.0636],\n",
    "             [0.0428,0.3154,0.2527,0.3875,0.0015],\n",
    "             [0.0720,0.0344,0.1252,0.6884,0.0799],\n",
    "             [0.3408,0.0421,0.0667,0.0544,0.4959]])\n",
    "A = np.zeros((10,10))\n",
    "A[3:8,3:8] = B\n",
    "\n",
    "\n",
    "P, n1, n2, flag = korak(B, 0.8, 3, 8, 10)\n",
    "\n",
    "\n",
    "#P = np.eye(n)\n",
    "#P[0:k,0:k] = Ppom\n",
    "\n",
    "A = P @ A @ np.transpose(P)\n",
    "plt.imshow(A)"
   ]
  },
  {
   "cell_type": "code",
   "execution_count": null,
   "id": "9064910b-510e-484d-9820-50c1a5d44c29",
   "metadata": {},
   "outputs": [],
   "source": []
  }
 ],
 "metadata": {
  "kernelspec": {
   "display_name": "Python 3",
   "language": "python",
   "name": "python3"
  },
  "language_info": {
   "codemirror_mode": {
    "name": "ipython",
    "version": 3
   },
   "file_extension": ".py",
   "mimetype": "text/x-python",
   "name": "python",
   "nbconvert_exporter": "python",
   "pygments_lexer": "ipython3",
   "version": "3.8.8"
  }
 },
 "nbformat": 4,
 "nbformat_minor": 5
}
